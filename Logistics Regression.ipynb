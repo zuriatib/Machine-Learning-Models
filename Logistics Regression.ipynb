{
 "cells": [
  {
   "cell_type": "code",
   "execution_count": 1,
   "metadata": {},
   "outputs": [],
   "source": [
    "import numpy as np\n",
    "import pandas as pd\n",
    "import matplotlib.pyplot as plt\n",
    "import seaborn as sns\n",
    "sns.set()\n",
    "%matplotlib inline"
   ]
  },
  {
   "cell_type": "code",
   "execution_count": 2,
   "metadata": {},
   "outputs": [
    {
     "name": "stdout",
     "output_type": "stream",
     "text": [
      "dict_keys(['pixels', 'overfeat', 'labels', 'names', 'allow_pickle'])\n"
     ]
    }
   ],
   "source": [
    "with np.load('cifar4-train.npz',allow_pickle=False) as npz_file:\n",
    "    data = dict(npz_file.items())\n",
    "print (data.keys())"
   ]
  },
  {
   "cell_type": "code",
   "execution_count": 4,
   "metadata": {},
   "outputs": [],
   "source": [
    "from sklearn.model_selection import train_test_split,GridSearchCV\n",
    "from sklearn.linear_model import SGDClassifier\n",
    "from sklearn.pipeline import Pipeline\n",
    "from sklearn.decomposition import PCA"
   ]
  },
  {
   "cell_type": "code",
   "execution_count": 31,
   "metadata": {},
   "outputs": [],
   "source": [
    "#create X/y arrays\n",
    "X = data['overfeat']\n",
    "y = data['labels']\n",
    "X_pix = data['pixels']\n",
    "X_names = data['names']\n",
    "X_labels = data['labels']\n",
    "\n",
    "X_train,X_test,y_train,y_test,pix_train,pix_test,labels_train,labels_test = train_test_split(X,y,X_pix,X_labels, test_size=1000, random_state=0)"
   ]
  },
  {
   "cell_type": "code",
   "execution_count": 34,
   "metadata": {},
   "outputs": [
    {
     "data": {
      "text/plain": [
       "GridSearchCV(cv=5, error_score='raise',\n",
       "       estimator=Pipeline(memory=None,\n",
       "     steps=[('pca', None), ('sgdclass', SGDClassifier(alpha=0.0001, average=False, class_weight=None, epsilon=0.1,\n",
       "       eta0=0.0, fit_intercept=True, l1_ratio=0.15,\n",
       "       learning_rate='optimal', loss='log', max_iter=1000, n_iter=None,\n",
       "       n_jobs=1, penalty='l2', power_t=0.5, random_state=0, shuffle=True,\n",
       "       tol=0.001, verbose=0, warm_start=False))]),\n",
       "       fit_params=None, iid=True, n_jobs=1,\n",
       "       param_grid=[{'sgdclass__alpha': [0.001, 0.01, 0.1, 1, 10]}, {'pca': [PCA(copy=True, iterated_power='auto', n_components=500, random_state=None,\n",
       "  svd_solver='auto', tol=0.0, whiten=False)], 'pca__n_components': [100, 200, 300, 400, 500], 'sgdclass__alpha': [0.001, 0.01, 0.1, 1, 10]}],\n",
       "       pre_dispatch='2*n_jobs', refit=True, return_train_score='warn',\n",
       "       scoring=None, verbose=0)"
      ]
     },
     "execution_count": 34,
     "metadata": {},
     "output_type": "execute_result"
    }
   ],
   "source": [
    "sgd = SGDClassifier(loss='log',max_iter=1000, tol=1e-3, random_state=0,penalty='l2')\n",
    "pca = PCA(n_components=150)\n",
    "pipe = Pipeline([('pca',None),('sgdclass',sgd)])\n",
    "grid_cv = GridSearchCV(pipe,[{'sgdclass__alpha':[0.001,0.01,0.1,1,10]},{'pca':[pca],'pca__n_components':[100,200,300,400,500],\n",
    "                                                                        'sgdclass__alpha':[0.001,0.01,0.1,1,10]}],cv=5)\n",
    "grid_cv.fit(X_train,y_train)"
   ]
  },
  {
   "cell_type": "code",
   "execution_count": 35,
   "metadata": {},
   "outputs": [
    {
     "data": {
      "text/plain": [
       "dict_keys(['mean_fit_time', 'std_fit_time', 'mean_score_time', 'std_score_time', 'param_sgdclass__alpha', 'param_pca', 'param_pca__n_components', 'params', 'split0_test_score', 'split1_test_score', 'split2_test_score', 'split3_test_score', 'split4_test_score', 'mean_test_score', 'std_test_score', 'rank_test_score', 'split0_train_score', 'split1_train_score', 'split2_train_score', 'split3_train_score', 'split4_train_score', 'mean_train_score', 'std_train_score'])"
      ]
     },
     "execution_count": 35,
     "metadata": {},
     "output_type": "execute_result"
    }
   ],
   "source": [
    "grid_cv.cv_results_.keys()"
   ]
  },
  {
   "cell_type": "code",
   "execution_count": 36,
   "metadata": {},
   "outputs": [],
   "source": [
    "results = pd.DataFrame.from_items([('alpha',grid_cv.cv_results_['param_sgdclass__alpha']),\n",
    "                                       ('n components',grid_cv.cv_results_['param_pca__n_components']),\n",
    "                                       ('mean test',grid_cv.cv_results_['mean_test_score']),\n",
    "                                       ('std test',grid_cv.cv_results_['std_test_score'])\n",
    "                                      ])"
   ]
  },
  {
   "cell_type": "code",
   "execution_count": 37,
   "metadata": {},
   "outputs": [
    {
     "data": {
      "text/html": [
       "<div>\n",
       "<style scoped>\n",
       "    .dataframe tbody tr th:only-of-type {\n",
       "        vertical-align: middle;\n",
       "    }\n",
       "\n",
       "    .dataframe tbody tr th {\n",
       "        vertical-align: top;\n",
       "    }\n",
       "\n",
       "    .dataframe thead th {\n",
       "        text-align: right;\n",
       "    }\n",
       "</style>\n",
       "<table border=\"1\" class=\"dataframe\">\n",
       "  <thead>\n",
       "    <tr style=\"text-align: right;\">\n",
       "      <th></th>\n",
       "      <th>alpha</th>\n",
       "      <th>n components</th>\n",
       "      <th>mean test</th>\n",
       "      <th>std test</th>\n",
       "    </tr>\n",
       "  </thead>\n",
       "  <tbody>\n",
       "    <tr>\n",
       "      <th>2</th>\n",
       "      <td>0.1</td>\n",
       "      <td>NaN</td>\n",
       "      <td>0.83375</td>\n",
       "      <td>0.015600</td>\n",
       "    </tr>\n",
       "    <tr>\n",
       "      <th>21</th>\n",
       "      <td>0.01</td>\n",
       "      <td>400</td>\n",
       "      <td>0.83150</td>\n",
       "      <td>0.014492</td>\n",
       "    </tr>\n",
       "    <tr>\n",
       "      <th>25</th>\n",
       "      <td>0.001</td>\n",
       "      <td>500</td>\n",
       "      <td>0.83050</td>\n",
       "      <td>0.016036</td>\n",
       "    </tr>\n",
       "    <tr>\n",
       "      <th>15</th>\n",
       "      <td>0.001</td>\n",
       "      <td>300</td>\n",
       "      <td>0.82875</td>\n",
       "      <td>0.014922</td>\n",
       "    </tr>\n",
       "    <tr>\n",
       "      <th>12</th>\n",
       "      <td>0.1</td>\n",
       "      <td>200</td>\n",
       "      <td>0.82875</td>\n",
       "      <td>0.014116</td>\n",
       "    </tr>\n",
       "  </tbody>\n",
       "</table>\n",
       "</div>"
      ],
      "text/plain": [
       "    alpha n components  mean test  std test\n",
       "2     0.1          NaN    0.83375  0.015600\n",
       "21   0.01          400    0.83150  0.014492\n",
       "25  0.001          500    0.83050  0.016036\n",
       "15  0.001          300    0.82875  0.014922\n",
       "12    0.1          200    0.82875  0.014116"
      ]
     },
     "execution_count": 37,
     "metadata": {},
     "output_type": "execute_result"
    }
   ],
   "source": [
    "results.sort_values('mean test',ascending=False).head()"
   ]
  },
  {
   "cell_type": "code",
   "execution_count": 38,
   "metadata": {},
   "outputs": [
    {
     "data": {
      "text/plain": [
       "2"
      ]
     },
     "execution_count": 38,
     "metadata": {},
     "output_type": "execute_result"
    }
   ],
   "source": [
    "results['mean test'].idxmax()"
   ]
  },
  {
   "cell_type": "code",
   "execution_count": 39,
   "metadata": {},
   "outputs": [
    {
     "name": "stdout",
     "output_type": "stream",
     "text": [
      "GGD Regression - top accuracy across folds: 0.834 (std: 0.016) with alpha: 0.1 and n_components nan\n"
     ]
    }
   ],
   "source": [
    "print ('GGD Regression - top accuracy across folds: {:.3f} (std: {:.3f}) with alpha: {} and n_components {}'\n",
    "       .format(results.loc[2,'mean test'],results.loc[2,'std test'],results.loc[2,'alpha'],results.loc[2,'n components']))"
   ]
  },
  {
   "cell_type": "code",
   "execution_count": 40,
   "metadata": {},
   "outputs": [
    {
     "name": "stdout",
     "output_type": "stream",
     "text": [
      "Logistic regression accuracy (test set):0.812\n"
     ]
    }
   ],
   "source": [
    "accuracy = grid_cv.score(X_test,y_test)\n",
    "print ('Logistic regression accuracy (test set):{:.3f}'.format(accuracy))"
   ]
  },
  {
   "cell_type": "code",
   "execution_count": 41,
   "metadata": {},
   "outputs": [
    {
     "data": {
      "text/plain": [
       "(1000, 4096)"
      ]
     },
     "execution_count": 41,
     "metadata": {},
     "output_type": "execute_result"
    }
   ],
   "source": [
    "X_test.shape"
   ]
  },
  {
   "cell_type": "code",
   "execution_count": 42,
   "metadata": {},
   "outputs": [
    {
     "data": {
      "text/plain": [
       "(1000, 3072)"
      ]
     },
     "execution_count": 42,
     "metadata": {},
     "output_type": "execute_result"
    }
   ],
   "source": [
    "pix_test.shape"
   ]
  },
  {
   "cell_type": "code",
   "execution_count": 43,
   "metadata": {},
   "outputs": [],
   "source": [
    "probability = grid_cv.best_estimator_.predict_proba(X_test[0:10])"
   ]
  },
  {
   "cell_type": "code",
   "execution_count": 44,
   "metadata": {},
   "outputs": [
    {
     "data": {
      "text/html": [
       "<div>\n",
       "<style scoped>\n",
       "    .dataframe tbody tr th:only-of-type {\n",
       "        vertical-align: middle;\n",
       "    }\n",
       "\n",
       "    .dataframe tbody tr th {\n",
       "        vertical-align: top;\n",
       "    }\n",
       "\n",
       "    .dataframe thead th {\n",
       "        text-align: right;\n",
       "    }\n",
       "</style>\n",
       "<table border=\"1\" class=\"dataframe\">\n",
       "  <thead>\n",
       "    <tr style=\"text-align: right;\">\n",
       "      <th></th>\n",
       "      <th>truck</th>\n",
       "      <th>car</th>\n",
       "      <th>airplane</th>\n",
       "      <th>ship</th>\n",
       "    </tr>\n",
       "  </thead>\n",
       "  <tbody>\n",
       "    <tr>\n",
       "      <th>0</th>\n",
       "      <td>0.00</td>\n",
       "      <td>0.93</td>\n",
       "      <td>0.04</td>\n",
       "      <td>0.02</td>\n",
       "    </tr>\n",
       "    <tr>\n",
       "      <th>1</th>\n",
       "      <td>0.00</td>\n",
       "      <td>0.56</td>\n",
       "      <td>0.06</td>\n",
       "      <td>0.38</td>\n",
       "    </tr>\n",
       "    <tr>\n",
       "      <th>2</th>\n",
       "      <td>0.11</td>\n",
       "      <td>0.88</td>\n",
       "      <td>0.00</td>\n",
       "      <td>0.01</td>\n",
       "    </tr>\n",
       "    <tr>\n",
       "      <th>3</th>\n",
       "      <td>0.00</td>\n",
       "      <td>0.02</td>\n",
       "      <td>0.15</td>\n",
       "      <td>0.83</td>\n",
       "    </tr>\n",
       "    <tr>\n",
       "      <th>4</th>\n",
       "      <td>0.00</td>\n",
       "      <td>0.04</td>\n",
       "      <td>0.96</td>\n",
       "      <td>0.00</td>\n",
       "    </tr>\n",
       "    <tr>\n",
       "      <th>5</th>\n",
       "      <td>0.61</td>\n",
       "      <td>0.13</td>\n",
       "      <td>0.01</td>\n",
       "      <td>0.26</td>\n",
       "    </tr>\n",
       "    <tr>\n",
       "      <th>6</th>\n",
       "      <td>0.00</td>\n",
       "      <td>0.00</td>\n",
       "      <td>0.46</td>\n",
       "      <td>0.54</td>\n",
       "    </tr>\n",
       "    <tr>\n",
       "      <th>7</th>\n",
       "      <td>0.02</td>\n",
       "      <td>0.09</td>\n",
       "      <td>0.00</td>\n",
       "      <td>0.89</td>\n",
       "    </tr>\n",
       "    <tr>\n",
       "      <th>8</th>\n",
       "      <td>0.04</td>\n",
       "      <td>0.02</td>\n",
       "      <td>0.90</td>\n",
       "      <td>0.04</td>\n",
       "    </tr>\n",
       "    <tr>\n",
       "      <th>9</th>\n",
       "      <td>0.00</td>\n",
       "      <td>0.14</td>\n",
       "      <td>0.78</td>\n",
       "      <td>0.08</td>\n",
       "    </tr>\n",
       "  </tbody>\n",
       "</table>\n",
       "</div>"
      ],
      "text/plain": [
       "   truck   car  airplane  ship\n",
       "0   0.00  0.93      0.04  0.02\n",
       "1   0.00  0.56      0.06  0.38\n",
       "2   0.11  0.88      0.00  0.01\n",
       "3   0.00  0.02      0.15  0.83\n",
       "4   0.00  0.04      0.96  0.00\n",
       "5   0.61  0.13      0.01  0.26\n",
       "6   0.00  0.00      0.46  0.54\n",
       "7   0.02  0.09      0.00  0.89\n",
       "8   0.04  0.02      0.90  0.04\n",
       "9   0.00  0.14      0.78  0.08"
      ]
     },
     "execution_count": 44,
     "metadata": {},
     "output_type": "execute_result"
    }
   ],
   "source": [
    "#regularization strenght of best, which is 0.1\n",
    "df = pd.DataFrame(probability,columns=['truck','car','airplane','ship'])\n",
    "df.round(2)"
   ]
  },
  {
   "cell_type": "code",
   "execution_count": 47,
   "metadata": {},
   "outputs": [
    {
     "data": {
      "image/png": "[encoded data removed]",
      "text/plain": [
       "<matplotlib.figure.Figure at 0x208810e7390>"
      ]
     },
     "metadata": {},
     "output_type": "display_data"
    }
   ],
   "source": [
    "X10 = pix_test[0:10]\n",
    "fig, axes = plt.subplots(nrows=1, ncols=10, figsize=(13, 2))\n",
    "for i,axis in enumerate(axes):\n",
    "    flat_img = X10[i,:]\n",
    "    img = flat_img.reshape(32, 32, 3)\n",
    "    axis.imshow(img)\n",
    "    axis.get_xaxis().set_visible(False) \n",
    "    axis.get_yaxis().set_visible(False)\n",
    "    axis.set_title('Image {}'.format(i+1))\n",
    "\n",
    "plt.show()\n"
   ]
  },
  {
   "cell_type": "code",
   "execution_count": 51,
   "metadata": {},
   "outputs": [
    {
     "name": "stdout",
     "output_type": "stream",
     "text": [
      "           truck           car      airplane           ship\n",
      "0   5.001761e-95  1.000000e+00  1.197879e-28   6.476192e-41\n",
      "1   1.575403e-42  6.584508e-09  9.998715e-01   1.285247e-04\n",
      "2   2.695346e-21  1.000000e+00  8.886290e-44   1.199971e-32\n",
      "3  1.357390e-108  5.879194e-84  7.205360e-16   1.000000e+00\n",
      "4   7.706284e-66  3.294581e-71  1.000000e+00  2.491938e-123\n",
      "          truck       car  airplane          ship\n",
      "0  6.506484e-17  0.995203  0.000088  4.709445e-03\n",
      "1  1.160328e-15  0.717943  0.000980  2.810771e-01\n",
      "2  3.673766e-09  0.999093  0.000002  9.049512e-04\n",
      "3  1.002350e-27  0.000010  0.000238  9.997523e-01\n",
      "4  2.148255e-17  0.000152  0.999848  2.580916e-13\n",
      "      truck       car  airplane      ship\n",
      "0  0.063877  0.736663  0.152733  0.046727\n",
      "1  0.031988  0.510815  0.187018  0.270179\n",
      "2  0.269833  0.681727  0.031444  0.016996\n",
      "3  0.000923  0.056048  0.294285  0.648744\n",
      "4  0.015825  0.146867  0.837181  0.000126\n",
      "      truck       car  airplane      ship\n",
      "0  0.183744  0.480924  0.202051  0.133281\n",
      "1  0.145398  0.384965  0.168600  0.301037\n",
      "2  0.356997  0.486645  0.062130  0.094228\n",
      "3  0.024085  0.117737  0.293367  0.564811\n",
      "4  0.072486  0.196632  0.717178  0.013705\n"
     ]
    }
   ],
   "source": [
    "alphas = [0.001,0.01,1,10]\n",
    "for alpha in alphas:\n",
    "    grid_cv1 = GridSearchCV(pipe,[{'sgdclass__alpha':[alpha]}],cv=5)\n",
    "    grid_cv1.fit(X_train,y_train)\n",
    "    prob = grid_cv1.predict_proba(X_test[0:10])\n",
    "    df = pd.DataFrame(prob,columns=['truck','car','airplane','ship'])\n",
    "    df.round(2)\n",
    "    print (df.head())"
   ]
  },
  {
   "cell_type": "markdown",
   "metadata": {},
   "source": [
    "My observation is that as the alpha value increases, the probability increases too. The only exception is when the model classifies an image (which means it has the highest probability), the probability will decrease and 'shifted' to other categories. I would say, this is a sign of high variance and overfitting."
   ]
  }
 ],
 "metadata": {
  "kernelspec": {
   "display_name": "Python 3",
   "language": "python",
   "name": "python3"
  },
  "language_info": {
   "codemirror_mode": {
    "name": "ipython",
    "version": 3
   },
   "file_extension": ".py",
   "mimetype": "text/x-python",
   "name": "python",
   "nbconvert_exporter": "python",
   "pygments_lexer": "ipython3",
   "version": "3.6.4"
  }
 },
 "nbformat": 4,
 "nbformat_minor": 2
}

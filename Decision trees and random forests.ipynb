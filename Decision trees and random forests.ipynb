{
 "cells": [
  {
   "cell_type": "code",
   "execution_count": 1,
   "metadata": {},
   "outputs": [],
   "source": [
    "import pandas as pd\n",
    "import numpy as np"
   ]
  },
  {
   "cell_type": "code",
   "execution_count": 4,
   "metadata": {},
   "outputs": [
    {
     "name": "stdout",
     "output_type": "stream",
     "text": [
      "dict_keys(['pixels', 'overfeat', 'labels', 'names', 'allow_pickle'])\n"
     ]
    }
   ],
   "source": [
    "with np.load('cifar4-train.npz', allow_pickle=False) as npz_file:\n",
    "    data = dict(npz_file.items())\n",
    "    print (data.keys())"
   ]
  },
  {
   "cell_type": "markdown",
   "metadata": {},
   "source": [
    "### Decision Trees"
   ]
  },
  {
   "cell_type": "code",
   "execution_count": 29,
   "metadata": {},
   "outputs": [],
   "source": [
    "from sklearn.model_selection import train_test_split"
   ]
  },
  {
   "cell_type": "code",
   "execution_count": 26,
   "metadata": {},
   "outputs": [
    {
     "name": "stdout",
     "output_type": "stream",
     "text": [
      "Size of X: (5000, 4096) float32\n",
      "Size of y: (5000,) int64\n",
      "Size of X_tr, y_tr: (4000, 4096) (4000,)\n",
      "Size of X_te ,y_te: (1000,) (1000,)\n",
      "Size of X_train, y_train: (3200, 4096) (3200,)\n",
      "Size of X_valid, y_valid: (800, 4096) (800,)\n"
     ]
    }
   ],
   "source": [
    "#create X/y arrays\n",
    "X = data['overfeat']\n",
    "y = data['labels']\n",
    "names = data['names']\n",
    "\n",
    "print ('Size of X:',X.shape,X.dtype)\n",
    "print ('Size of y:',y.shape,y.dtype)\n",
    "\n",
    "X_tr, X_te, y_tr, y_te = train_test_split(X, y, test_size=1000, random_state=0,stratify=y)\n",
    "print ('Size of X_tr, y_tr:',X_tr.shape,y_tr.shape)\n",
    "print ('Size of X_te ,y_te:',y_te.shape,y_te.shape)\n",
    "\n",
    "X_train, X_valid, y_train, y_valid = train_test_split(X_tr, y_tr, test_size=800, random_state=0,stratify=y_tr)\n",
    "\n",
    "print ('Size of X_train, y_train:', X_train.shape, y_train.shape)\n",
    "print ('Size of X_valid, y_valid:', X_valid.shape, y_valid.shape)\n"
   ]
  },
  {
   "cell_type": "code",
   "execution_count": 37,
   "metadata": {},
   "outputs": [],
   "source": [
    "from sklearn.tree import DecisionTreeClassifier\n",
    "from sklearn.pipeline import Pipeline\n",
    "from sklearn.decomposition import PCA"
   ]
  },
  {
   "cell_type": "code",
   "execution_count": 122,
   "metadata": {},
   "outputs": [],
   "source": [
    "#define parameters and values\n",
    "depth = np.arange(1,11)\n",
    "\n",
    "pipe = Pipeline([('pca',PCA(n_components=150)),('tree',DecisionTreeClassifier())])\n",
    "\n",
    "#save accuracy for train/vallid sets\n",
    "train_scores = []\n",
    "valid_scores = []\n",
    "\n",
    "for d in depth:\n",
    "    pipe.set_params(tree__max_depth=d)\n",
    "    pipe.fit(X_train,y_train)\n",
    "    \n",
    "    train_accuracy = pipe.score(X_train,y_train)\n",
    "    train_scores.append({'tree__max_depth': d, 'accuracy': train_accuracy})\n",
    "\n",
    "    valid_accuracy = pipe.score(X_valid,y_valid)\n",
    "    valid_scores.append({'tree__max_depth': d, 'accuracy': valid_accuracy})  "
   ]
  },
  {
   "cell_type": "code",
   "execution_count": 124,
   "metadata": {},
   "outputs": [
    {
     "data": {
      "text/html": [
       "<div>\n",
       "<style scoped>\n",
       "    .dataframe tbody tr th:only-of-type {\n",
       "        vertical-align: middle;\n",
       "    }\n",
       "\n",
       "    .dataframe tbody tr th {\n",
       "        vertical-align: top;\n",
       "    }\n",
       "\n",
       "    .dataframe thead th {\n",
       "        text-align: right;\n",
       "    }\n",
       "</style>\n",
       "<table border=\"1\" class=\"dataframe\">\n",
       "  <thead>\n",
       "    <tr style=\"text-align: right;\">\n",
       "      <th></th>\n",
       "      <th>accuracy</th>\n",
       "      <th>tree__max_depth</th>\n",
       "    </tr>\n",
       "  </thead>\n",
       "  <tbody>\n",
       "    <tr>\n",
       "      <th>9</th>\n",
       "      <td>0.924687</td>\n",
       "      <td>10</td>\n",
       "    </tr>\n",
       "    <tr>\n",
       "      <th>8</th>\n",
       "      <td>0.898438</td>\n",
       "      <td>9</td>\n",
       "    </tr>\n",
       "    <tr>\n",
       "      <th>7</th>\n",
       "      <td>0.847812</td>\n",
       "      <td>8</td>\n",
       "    </tr>\n",
       "    <tr>\n",
       "      <th>6</th>\n",
       "      <td>0.797813</td>\n",
       "      <td>7</td>\n",
       "    </tr>\n",
       "    <tr>\n",
       "      <th>5</th>\n",
       "      <td>0.747812</td>\n",
       "      <td>6</td>\n",
       "    </tr>\n",
       "  </tbody>\n",
       "</table>\n",
       "</div>"
      ],
      "text/plain": [
       "   accuracy  tree__max_depth\n",
       "9  0.924687               10\n",
       "8  0.898438                9\n",
       "7  0.847812                8\n",
       "6  0.797813                7\n",
       "5  0.747812                6"
      ]
     },
     "execution_count": 124,
     "metadata": {},
     "output_type": "execute_result"
    }
   ],
   "source": [
    "train_df = pd.DataFrame(train_scores)\n",
    "train_df.sort_values(by='accuracy',ascending=False).head()"
   ]
  },
  {
   "cell_type": "code",
   "execution_count": 126,
   "metadata": {},
   "outputs": [
    {
     "data": {
      "text/html": [
       "<div>\n",
       "<style scoped>\n",
       "    .dataframe tbody tr th:only-of-type {\n",
       "        vertical-align: middle;\n",
       "    }\n",
       "\n",
       "    .dataframe tbody tr th {\n",
       "        vertical-align: top;\n",
       "    }\n",
       "\n",
       "    .dataframe thead th {\n",
       "        text-align: right;\n",
       "    }\n",
       "</style>\n",
       "<table border=\"1\" class=\"dataframe\">\n",
       "  <thead>\n",
       "    <tr style=\"text-align: right;\">\n",
       "      <th></th>\n",
       "      <th>accuracy</th>\n",
       "      <th>tree__max_depth</th>\n",
       "    </tr>\n",
       "  </thead>\n",
       "  <tbody>\n",
       "    <tr>\n",
       "      <th>4</th>\n",
       "      <td>0.65375</td>\n",
       "      <td>5</td>\n",
       "    </tr>\n",
       "    <tr>\n",
       "      <th>5</th>\n",
       "      <td>0.65250</td>\n",
       "      <td>6</td>\n",
       "    </tr>\n",
       "    <tr>\n",
       "      <th>3</th>\n",
       "      <td>0.64875</td>\n",
       "      <td>4</td>\n",
       "    </tr>\n",
       "    <tr>\n",
       "      <th>6</th>\n",
       "      <td>0.64250</td>\n",
       "      <td>7</td>\n",
       "    </tr>\n",
       "    <tr>\n",
       "      <th>8</th>\n",
       "      <td>0.63625</td>\n",
       "      <td>9</td>\n",
       "    </tr>\n",
       "  </tbody>\n",
       "</table>\n",
       "</div>"
      ],
      "text/plain": [
       "   accuracy  tree__max_depth\n",
       "4   0.65375                5\n",
       "5   0.65250                6\n",
       "3   0.64875                4\n",
       "6   0.64250                7\n",
       "8   0.63625                9"
      ]
     },
     "execution_count": 126,
     "metadata": {},
     "output_type": "execute_result"
    }
   ],
   "source": [
    "valid_df = pd.DataFrame(valid_scores)\n",
    "valid_df.sort_values(by='accuracy',ascending=False).head()"
   ]
  },
  {
   "cell_type": "code",
   "execution_count": 42,
   "metadata": {},
   "outputs": [],
   "source": [
    "import matplotlib.pyplot as plt\n",
    "import seaborn as sns\n",
    "sns.set()\n",
    "%matplotlib inline"
   ]
  },
  {
   "cell_type": "code",
   "execution_count": 129,
   "metadata": {},
   "outputs": [
    {
     "data": {
      "image/png": "[encoded data removed]",
      "text/plain": [
       "<matplotlib.figure.Figure at 0x254a59fd390>"
      ]
     },
     "metadata": {},
     "output_type": "display_data"
    }
   ],
   "source": [
    "plt.plot(valid_df['accuracy'],label='Validation Set')\n",
    "plt.plot(train_df['accuracy'],label='Train Set')\n",
    "\n",
    "plt.legend()\n",
    "plt.xlabel('Max Depth of Tree')\n",
    "plt.ylabel('Accuracy')\n",
    "plt.show()"
   ]
  },
  {
   "cell_type": "markdown",
   "metadata": {},
   "source": [
    "Looking at the graph above, accuracy seems to increase at 1. For the train set, accuracy continued to increase with the depth of the tree. However, I'd say it's a sign of overfitting and high variance as the accuracy of the validation set doesn't increase, rather it decreased at 3. \n",
    "\n",
    "I chose PCA with 150 components, as shown in our earlier exercise, 150 components will cover 90% of the variance explained. PCA will also help with overfitting and increase prediction accuracy and speed. This is essential, given that there are more than 4000 components in the set."
   ]
  },
  {
   "cell_type": "code",
   "execution_count": 170,
   "metadata": {},
   "outputs": [
    {
     "data": {
      "text/plain": [
       "4"
      ]
     },
     "execution_count": 170,
     "metadata": {},
     "output_type": "execute_result"
    }
   ],
   "source": [
    "valid_df['accuracy'].idxmax()"
   ]
  },
  {
   "cell_type": "code",
   "execution_count": 194,
   "metadata": {},
   "outputs": [
    {
     "name": "stdout",
     "output_type": "stream",
     "text": [
      "Top DECISION TREE accuracy on validation set: 0.654 with max_depth of 5\n"
     ]
    }
   ],
   "source": [
    "print ('Top DECISION TREE accuracy on validation set: {:.3f} with max_depth of {}'.format(valid_df.loc[4,'accuracy'],\n",
    "                                                                                      valid_df.loc[4,'tree__max_depth']))"
   ]
  },
  {
   "cell_type": "markdown",
   "metadata": {},
   "source": [
    "### Random Forest Classifier"
   ]
  },
  {
   "cell_type": "code",
   "execution_count": 154,
   "metadata": {},
   "outputs": [],
   "source": [
    "from sklearn.ensemble import RandomForestClassifier"
   ]
  },
  {
   "cell_type": "code",
   "execution_count": 158,
   "metadata": {},
   "outputs": [],
   "source": [
    "estimators = [100,200,300,400,500]\n",
    "\n",
    "pipe = Pipeline([('pca',PCA(n_components=150)),('forest', RandomForestClassifier())])\n",
    "\n",
    "valid_scores_forest = []\n",
    "\n",
    "for estimator in estimators:\n",
    "    pipe.set_params(forest__n_estimators=estimator)\n",
    "    pipe.fit(X_train,y_train)\n",
    "    accuracy = pipe.score(X_valid,y_valid)\n",
    "    valid_scores_forest.append({'accuracy':accuracy,'estimator':estimator})\n",
    "\n",
    "forest_df = pd.DataFrame(valid_scores_forest)"
   ]
  },
  {
   "cell_type": "code",
   "execution_count": 159,
   "metadata": {},
   "outputs": [
    {
     "data": {
      "text/html": [
       "<div>\n",
       "<style scoped>\n",
       "    .dataframe tbody tr th:only-of-type {\n",
       "        vertical-align: middle;\n",
       "    }\n",
       "\n",
       "    .dataframe tbody tr th {\n",
       "        vertical-align: top;\n",
       "    }\n",
       "\n",
       "    .dataframe thead th {\n",
       "        text-align: right;\n",
       "    }\n",
       "</style>\n",
       "<table border=\"1\" class=\"dataframe\">\n",
       "  <thead>\n",
       "    <tr style=\"text-align: right;\">\n",
       "      <th></th>\n",
       "      <th>accuracy</th>\n",
       "      <th>estimator</th>\n",
       "    </tr>\n",
       "  </thead>\n",
       "  <tbody>\n",
       "    <tr>\n",
       "      <th>4</th>\n",
       "      <td>0.7775</td>\n",
       "      <td>500</td>\n",
       "    </tr>\n",
       "    <tr>\n",
       "      <th>3</th>\n",
       "      <td>0.7725</td>\n",
       "      <td>400</td>\n",
       "    </tr>\n",
       "    <tr>\n",
       "      <th>1</th>\n",
       "      <td>0.7675</td>\n",
       "      <td>200</td>\n",
       "    </tr>\n",
       "    <tr>\n",
       "      <th>0</th>\n",
       "      <td>0.7625</td>\n",
       "      <td>100</td>\n",
       "    </tr>\n",
       "    <tr>\n",
       "      <th>2</th>\n",
       "      <td>0.7575</td>\n",
       "      <td>300</td>\n",
       "    </tr>\n",
       "  </tbody>\n",
       "</table>\n",
       "</div>"
      ],
      "text/plain": [
       "   accuracy  estimator\n",
       "4    0.7775        500\n",
       "3    0.7725        400\n",
       "1    0.7675        200\n",
       "0    0.7625        100\n",
       "2    0.7575        300"
      ]
     },
     "execution_count": 159,
     "metadata": {},
     "output_type": "execute_result"
    }
   ],
   "source": [
    "forest_df.sort_values(by='accuracy',ascending=False)"
   ]
  },
  {
   "cell_type": "code",
   "execution_count": 191,
   "metadata": {},
   "outputs": [
    {
     "data": {
      "text/plain": [
       "4"
      ]
     },
     "execution_count": 191,
     "metadata": {},
     "output_type": "execute_result"
    }
   ],
   "source": [
    "forest_df['accuracy'].idxmax()"
   ]
  },
  {
   "cell_type": "code",
   "execution_count": 193,
   "metadata": {},
   "outputs": [
    {
     "name": "stdout",
     "output_type": "stream",
     "text": [
      "Top RANDOM FOREST accuracy on validation set: 0.777 with max_depth of 500\n"
     ]
    }
   ],
   "source": [
    "print ('Top RANDOM FOREST accuracy on validation set: {:.3f} with max_depth of {}'.format(forest_df.loc[4,'accuracy'],\n",
    "                                                                                      forest_df.loc[4,'estimator']))"
   ]
  },
  {
   "cell_type": "markdown",
   "metadata": {},
   "source": [
    "### Tuned models on entire train set (4000)"
   ]
  },
  {
   "cell_type": "code",
   "execution_count": 188,
   "metadata": {},
   "outputs": [],
   "source": [
    "#tree with max_depth of 5\n",
    "tree = DecisionTreeClassifier(max_depth=5)\n",
    "pca = PCA(n_components=150)\n",
    "pipe = Pipeline([('pca',pca),('tree',tree)])\n",
    "pipe.fit(X_tr,y_tr)\n",
    "acc_tree_tuned = pipe.score(X_te,y_te)\n",
    "\n",
    "#forest with n_estimators of 500\n",
    "forest = RandomForestClassifier(n_estimators=500)\n",
    "pipe = Pipeline([('pca',pca),('forest',forest)])\n",
    "pipe.fit(X_tr,y_tr)\n",
    "acc_forest_tuned = pipe.score(X_te,y_te)"
   ]
  },
  {
   "cell_type": "code",
   "execution_count": 189,
   "metadata": {},
   "outputs": [
    {
     "name": "stdout",
     "output_type": "stream",
     "text": [
      "Decision tree accuracy (test set): 0.642\n",
      "Random forest accuracy (test set): 0.776\n"
     ]
    }
   ],
   "source": [
    "print ('Decision tree accuracy (test set): {:.3f}'.format(acc_tree_tuned))\n",
    "print ('Random forest accuracy (test set): {:.3f}'.format(acc_forest_tuned))"
   ]
  }
 ],
 "metadata": {
  "kernelspec": {
   "display_name": "Python 3",
   "language": "python",
   "name": "python3"
  },
  "language_info": {
   "codemirror_mode": {
    "name": "ipython",
    "version": 3
   },
   "file_extension": ".py",
   "mimetype": "text/x-python",
   "name": "python",
   "nbconvert_exporter": "python",
   "pygments_lexer": "ipython3",
   "version": "3.6.4"
  }
 },
 "nbformat": 4,
 "nbformat_minor": 2
}

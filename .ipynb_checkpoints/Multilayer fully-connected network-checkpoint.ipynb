{
 "cells": [
  {
   "cell_type": "markdown",
   "metadata": {},
   "source": [
    "#### Load and split data"
   ]
  },
  {
   "cell_type": "code",
   "execution_count": 15,
   "metadata": {},
   "outputs": [],
   "source": [
    "import numpy as np\n",
    "import pandas as pd"
   ]
  },
  {
   "cell_type": "code",
   "execution_count": 16,
   "metadata": {},
   "outputs": [
    {
     "name": "stdout",
     "output_type": "stream",
     "text": [
      "dict_keys(['pixels', 'overfeat', 'labels', 'names', 'allow_pickle'])\n"
     ]
    }
   ],
   "source": [
    "with np.load('cifar4-train.npz',allow_pickle=False) as npz_file:\n",
    "    data = dict(npz_file.items())\n",
    "    print (data.keys())"
   ]
  },
  {
   "cell_type": "code",
   "execution_count": 77,
   "metadata": {},
   "outputs": [
    {
     "name": "stdout",
     "output_type": "stream",
     "text": [
      "Train: (3200, 4096) (3200,)\n",
      "Valid: (800, 4096) (800,)\n",
      "Test: (1000, 4096) (1000,)\n"
     ]
    }
   ],
   "source": [
    "from sklearn.model_selection import train_test_split\n",
    "from sklearn.preprocessing import StandardScaler\n",
    "    \n",
    "# Create train set\n",
    "X_train, X_test, y_train, y_test = train_test_split(data['overfeat'],data['labels'],test_size=1800, random_state=0)\n",
    "\n",
    "# Create validation and test sets\n",
    "X_valid, X_test, y_valid, y_test = train_test_split(X_test, y_test, test_size=1000, random_state=0)\n",
    "\n",
    "print('Train:', X_train.shape, y_train.shape)\n",
    "print('Valid:', X_valid.shape, y_valid.shape)\n",
    "print('Test:', X_test.shape, y_test.shape)"
   ]
  },
  {
   "cell_type": "code",
   "execution_count": 21,
   "metadata": {},
   "outputs": [],
   "source": [
    "# Batch generator\n",
    "def get_batches(X, y, batch_size):\n",
    "    # Shuffle X,y\n",
    "    shuffled_idx = np.arange(len(y)) # 1,2,...,n\n",
    "    np.random.shuffle(shuffled_idx)\n",
    "\n",
    "    # Enumerate indexes by steps of batch_size\n",
    "    # i: 0, b, 2b, 3b, 4b, .. where b is the batch size\n",
    "    for i in range(0, len(y), batch_size):\n",
    "        # Batch indexes\n",
    "        batch_idx = shuffled_idx[i:i+batch_size]\n",
    "        yield X[batch_idx], y[batch_idx]"
   ]
  },
  {
   "cell_type": "markdown",
   "metadata": {},
   "source": [
    "#### Create a multilayer network"
   ]
  },
  {
   "cell_type": "code",
   "execution_count": 1,
   "metadata": {},
   "outputs": [],
   "source": [
    "import tensorflow as tf"
   ]
  },
  {
   "cell_type": "code",
   "execution_count": 110,
   "metadata": {},
   "outputs": [],
   "source": [
    "#create a new graph\n",
    "graph = tf.Graph()\n",
    "\n",
    "with graph.as_default():\n",
    "    #create placeholders\n",
    "    X = tf.placeholder(dtype=tf.float32,shape=[None,4096])\n",
    "    y = tf.placeholder(dtype=tf.int32,shape=[None])\n",
    "    \n",
    "    #hidden layer with 64 hidden units (ReLu)\n",
    "    hidden = tf.layers.dense(X,64,activation=tf.nn.relu,kernel_initializer=tf.variance_scaling_initializer(scale=2,seed=0),\n",
    "                            bias_initializer=tf.zeros_initializer(),name='hidden')\n",
    "    \n",
    "    #output layer\n",
    "    logits = tf.layers.dense(hidden,4,activation=None,kernel_initializer=tf.variance_scaling_initializer(scale=1,seed=0),\n",
    "                            bias_initializer=tf.zeros_initializer(),name='output') \n",
    "    \n",
    "    # Get weights/biases of the hidden layer\n",
    "    with tf.variable_scope('hidden', reuse=True):\n",
    "        W1 = tf.get_variable('kernel')\n",
    "        b1 = tf.get_variable('bias')\n",
    "\n",
    "    # Get weights/biases of the output layer\n",
    "    with tf.variable_scope('output', reuse=True):\n",
    "        W2 = tf.get_variable('kernel')\n",
    "        b2 = tf.get_variable('bias')"
   ]
  },
  {
   "cell_type": "code",
   "execution_count": 111,
   "metadata": {},
   "outputs": [],
   "source": [
    "with graph.as_default():\n",
    "    #create training placeholder\n",
    "    training = tf.placeholder(dtype=tf.bool)\n",
    "    \n",
    "    #apply dropout (TO INPUTS AND HIDDEN UNITS)\n",
    "    inputs = tf.layers.dropout(X,rate=0.5,seed=0.5,training=training)\n",
    "    hidden = tf.layers.dropout(hidden,rate=0.5,seed=0.5,training=training) \n",
    "    \n",
    "    #loss function cross entropy\n",
    "    ce = tf.nn.sparse_softmax_cross_entropy_with_logits(labels=y,logits=logits)\n",
    "    \n",
    "    #compute mean of cross entropy\n",
    "    mean_ce = tf.reduce_mean(ce)\n",
    "    \n",
    "    #gradient descent\n",
    "    lr = tf.placeholder(dtype=tf.float32)\n",
    "    gd = tf.train.GradientDescentOptimizer(learning_rate=lr)\n",
    "    \n",
    "    #L2 term FOR W1 AND W2\n",
    "    l2_term_W1 = tf.nn.l2_loss(W1)\n",
    "    l2_term_W2 = tf.nn.l2_loss(W2)\n",
    "    \n",
    "    #regularization strength\n",
    "    alpha = tf.placeholder(dtype=tf.float32)\n",
    "    \n",
    "    #loss function\n",
    "    loss = mean_ce + alpha * (l2_term_W1 + l2_term_W2)\n",
    "        \n",
    "    #training op\n",
    "    train_op = gd.minimize(loss)\n",
    "    \n",
    "    #compute predictions and accuracy\n",
    "    predictions = tf.argmax(logits,axis=1,output_type=tf.int32)\n",
    "    is_correct = tf.equal(y,predictions)\n",
    "    accuracy = tf.reduce_mean(tf.cast(is_correct,dtype=tf.float32))"
   ]
  },
  {
   "cell_type": "markdown",
   "metadata": {},
   "source": [
    "#### Training the network\n",
    "    "
   ]
  },
  {
   "cell_type": "code",
   "execution_count": 135,
   "metadata": {
    "scrolled": true
   },
   "outputs": [
    {
     "name": "stdout",
     "output_type": "stream",
     "text": [
      "Done\n",
      "Multilayer fully-connected network accuracy (test set): 0.805\n"
     ]
    }
   ],
   "source": [
    "#validation accuracy\n",
    "valid_acc_values = []\n",
    "\n",
    "with tf.Session(graph=graph) as sess:\n",
    "    #initialize variables\n",
    "    sess.run(tf.global_variables_initializer())\n",
    "    \n",
    "    #set seed\n",
    "    np.random.seed(0)\n",
    "    \n",
    "    #train several epochs\n",
    "    for epoch in range(150):\n",
    "        #accuracy values (train) after each epoch\n",
    "        epoch_acc = []\n",
    "        \n",
    "        #get batches of data\n",
    "        for X_batch,y_batch in get_batches(X_train,y_train,260):\n",
    "            _,acc_value = sess.run([train_op,accuracy],feed_dict={X:X_batch,y:y_batch,lr:0.001,training:True,alpha:0.001})\n",
    "            epoch_acc.append(acc_value)\n",
    "        \n",
    "        #evaluate validation accuracy\n",
    "        valid_acc = sess.run(accuracy, feed_dict={X: X_valid,y: y_valid,training:False})\n",
    "        valid_acc_values.append(valid_acc)\n",
    "        \n",
    "        #print progress\n",
    "        #print('Epoch {} - valid: {:.3f} train: {:.3f} (mean)'.format(epoch+1, valid_acc, np.mean(epoch_acc)))\n",
    "    print ('Done')\n",
    "    \n",
    "    # Evaluate test accuracy\n",
    "    test_acc = sess.run(accuracy, feed_dict={X: X_test,y: y_test})\n",
    "    print('Multilayer fully-connected network accuracy (test set): {:.3f}'.format(test_acc))   \n",
    "    \n",
    "    # Weights of the hidden layer\n",
    "    weights_hidden = W1.eval()\n",
    "    weights_hidden = W2.eval()"
   ]
  },
  {
   "cell_type": "code",
   "execution_count": 132,
   "metadata": {},
   "outputs": [
    {
     "data": {
      "image/png": "[encoded data removed]",
      "text/plain": [
       "<matplotlib.figure.Figure at 0x154ed6354e0>"
      ]
     },
     "metadata": {},
     "output_type": "display_data"
    }
   ],
   "source": [
    "%matplotlib inline\n",
    "import matplotlib.pyplot as plt\n",
    "\n",
    "# Plot accuracy values\n",
    "plt.plot(valid_acc_values)\n",
    "plt.title('Validation accuracy {:.3f} (mean last 50)'.format(np.mean(valid_acc_values[-50:])))\n",
    "plt.xlabel('batch')\n",
    "plt.ylabel('accuracy')\n",
    "plt.show()"
   ]
  },
  {
   "cell_type": "code",
   "execution_count": null,
   "metadata": {},
   "outputs": [],
   "source": []
  }
 ],
 "metadata": {
  "kernelspec": {
   "display_name": "Python 3",
   "language": "python",
   "name": "python3"
  },
  "language_info": {
   "codemirror_mode": {
    "name": "ipython",
    "version": 3
   },
   "file_extension": ".py",
   "mimetype": "text/x-python",
   "name": "python",
   "nbconvert_exporter": "python",
   "pygments_lexer": "ipython3",
   "version": "3.6.4"
  }
 },
 "nbformat": 4,
 "nbformat_minor": 2
}

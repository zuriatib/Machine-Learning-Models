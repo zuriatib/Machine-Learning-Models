{
 "cells": [
  {
   "cell_type": "code",
   "execution_count": 1,
   "metadata": {},
   "outputs": [],
   "source": [
    "import numpy as np\n",
    "import pandas as pd"
   ]
  },
  {
   "cell_type": "code",
   "execution_count": 2,
   "metadata": {},
   "outputs": [
    {
     "name": "stdout",
     "output_type": "stream",
     "text": [
      "Data loaded\n",
      "dict_keys(['pixels', 'overfeat', 'labels', 'names', 'allow_pickle'])\n"
     ]
    }
   ],
   "source": [
    "with np.load('cifar4-train.npz',allow_pickle=False) as npz_file:\n",
    "    print ('Data loaded')\n",
    "    data = dict(npz_file.items())\n",
    "    print (data.keys())"
   ]
  },
  {
   "cell_type": "code",
   "execution_count": 3,
   "metadata": {},
   "outputs": [
    {
     "name": "stdout",
     "output_type": "stream",
     "text": [
      "Size of X: (5000, 4096) float32\n",
      "Size of y: (5000,) int64\n"
     ]
    }
   ],
   "source": [
    "#create X/y arrays\n",
    "X = data['overfeat']\n",
    "y = data['labels']\n",
    "X_raw = data['pixels']\n",
    "names = data['names']\n",
    "labels = data['labels']\n",
    "\n",
    "print ('Size of X:',X.shape,X.dtype)\n",
    "print ('Size of y:',y.shape,y.dtype)\n"
   ]
  },
  {
   "cell_type": "code",
   "execution_count": 5,
   "metadata": {},
   "outputs": [],
   "source": [
    "from sklearn.model_selection import train_test_split"
   ]
  },
  {
   "cell_type": "code",
   "execution_count": 6,
   "metadata": {},
   "outputs": [],
   "source": [
    "X_tr,X_te,y_tr,y_te,pix_tr,pix_te,label_tr,label_te = train_test_split(X,y,X_raw,labels, test_size=1000, random_state=0,stratify=y)"
   ]
  },
  {
   "cell_type": "code",
   "execution_count": 7,
   "metadata": {},
   "outputs": [
    {
     "name": "stdout",
     "output_type": "stream",
     "text": [
      "Size of X train ,y train: (4000, 4096) (4000,)\n",
      "Size of X test ,y test: (1000, 4096) (1000,)\n"
     ]
    }
   ],
   "source": [
    "print ('Size of X train ,y train:',X_tr.shape,y_tr.shape)\n",
    "print ('Size of X test ,y test:',X_te.shape,y_te.shape)"
   ]
  },
  {
   "cell_type": "markdown",
   "metadata": {},
   "source": [
    "### Create a k-NN classifier with PCA. Tune parameters (k and distance metrics) using grid search."
   ]
  },
  {
   "cell_type": "code",
   "execution_count": 8,
   "metadata": {},
   "outputs": [],
   "source": [
    "from sklearn.pipeline import Pipeline\n",
    "from sklearn.neighbors import KNeighborsClassifier\n",
    "from sklearn.decomposition import PCA\n",
    "from sklearn.model_selection import ParameterGrid"
   ]
  },
  {
   "cell_type": "code",
   "execution_count": 9,
   "metadata": {},
   "outputs": [
    {
     "name": "stdout",
     "output_type": "stream",
     "text": [
      "Accuracy: 0.749\n"
     ]
    }
   ],
   "source": [
    "#create PCA object\n",
    "pca = PCA(n_components=150)\n",
    "\n",
    "#create KNN object\n",
    "knn = KNeighborsClassifier(n_neighbors=5,n_jobs=-1)\n",
    "\n",
    "#create pipeline with PCA and KNeigborsClassifier \n",
    "pipe = Pipeline([('pca',pca),('knn',knn)])\n",
    "\n",
    "#fit train set\n",
    "pipe.fit(X_tr,y_tr)\n",
    "\n",
    "#accuracy on test set\n",
    "accuracy = pipe.score(X_te,y_te)\n",
    "print ('Accuracy: {:.3f}'.format(accuracy))"
   ]
  },
  {
   "cell_type": "code",
   "execution_count": 10,
   "metadata": {},
   "outputs": [
    {
     "name": "stdout",
     "output_type": "stream",
     "text": [
      "Size of X train ,y train: (3200, 4096) (3200,)\n",
      "Size of X valid ,y valid: (800, 4096) (800,)\n"
     ]
    }
   ],
   "source": [
    "X_train,X_valid,y_train,y_valid = train_test_split(X_tr, y_tr, test_size=800, random_state=0,stratify=y_tr)\n",
    "print ('Size of X train ,y train:',X_train.shape,y_train.shape)\n",
    "print ('Size of X valid ,y valid:',X_valid.shape,y_valid.shape)"
   ]
  },
  {
   "cell_type": "code",
   "execution_count": 11,
   "metadata": {},
   "outputs": [
    {
     "name": "stdout",
     "output_type": "stream",
     "text": [
      "Number of combinations: 30\n"
     ]
    }
   ],
   "source": [
    "#define parameters and values\n",
    "distance_types = [1,2] #L1 and L2 distances (p)\n",
    "k_values = range(50,125,5) #n_neighbors\n",
    "\n",
    "#define a grid of values\n",
    "grid = ParameterGrid({'knn__n_neighbors':k_values,'knn__p':distance_types})\n",
    "\n",
    "print ('Number of combinations:',len(grid))"
   ]
  },
  {
   "cell_type": "code",
   "execution_count": 12,
   "metadata": {
    "scrolled": true
   },
   "outputs": [
    {
     "name": "stdout",
     "output_type": "stream",
     "text": [
      "Combination 1/30\n",
      "Combination 2/30\n",
      "Combination 3/30\n",
      "Combination 4/30\n",
      "Combination 5/30\n",
      "Combination 6/30\n",
      "Combination 7/30\n",
      "Combination 8/30\n",
      "Combination 9/30\n",
      "Combination 10/30\n",
      "Combination 11/30\n",
      "Combination 12/30\n",
      "Combination 13/30\n",
      "Combination 14/30\n",
      "Combination 15/30\n",
      "Combination 16/30\n",
      "Combination 17/30\n",
      "Combination 18/30\n",
      "Combination 19/30\n",
      "Combination 20/30\n",
      "Combination 21/30\n",
      "Combination 22/30\n",
      "Combination 23/30\n",
      "Combination 24/30\n",
      "Combination 25/30\n",
      "Combination 26/30\n",
      "Combination 27/30\n",
      "Combination 28/30\n",
      "Combination 29/30\n",
      "Combination 30/30\n",
      "Done!\n"
     ]
    }
   ],
   "source": [
    "pipe = Pipeline([('pca',PCA(n_components=150)),('knn',KNeighborsClassifier(n_jobs=-1,algorithm='brute'))])\n",
    "\n",
    "valid_scores = []\n",
    "\n",
    "for i, params_dict in enumerate(grid,1):\n",
    "    print ('Combination {}/{}'.format(i,len(grid)))\n",
    "    pipe.set_params(**params_dict)\n",
    "    #fit to train set\n",
    "    pipe.fit(X_train,y_train)\n",
    "    params_dict['accuracy'] = pipe.score(X_valid,y_valid)\n",
    "    valid_scores.append(params_dict)\n",
    "\n",
    "print ('Done!')"
   ]
  },
  {
   "cell_type": "code",
   "execution_count": 13,
   "metadata": {
    "scrolled": true
   },
   "outputs": [
    {
     "data": {
      "text/html": [
       "<div>\n",
       "<style scoped>\n",
       "    .dataframe tbody tr th:only-of-type {\n",
       "        vertical-align: middle;\n",
       "    }\n",
       "\n",
       "    .dataframe tbody tr th {\n",
       "        vertical-align: top;\n",
       "    }\n",
       "\n",
       "    .dataframe thead th {\n",
       "        text-align: right;\n",
       "    }\n",
       "</style>\n",
       "<table border=\"1\" class=\"dataframe\">\n",
       "  <thead>\n",
       "    <tr style=\"text-align: right;\">\n",
       "      <th></th>\n",
       "      <th>accuracy</th>\n",
       "      <th>knn__n_neighbors</th>\n",
       "      <th>knn__p</th>\n",
       "    </tr>\n",
       "  </thead>\n",
       "  <tbody>\n",
       "    <tr>\n",
       "      <th>13</th>\n",
       "      <td>0.78125</td>\n",
       "      <td>80</td>\n",
       "      <td>2</td>\n",
       "    </tr>\n",
       "    <tr>\n",
       "      <th>15</th>\n",
       "      <td>0.78000</td>\n",
       "      <td>85</td>\n",
       "      <td>2</td>\n",
       "    </tr>\n",
       "    <tr>\n",
       "      <th>11</th>\n",
       "      <td>0.77375</td>\n",
       "      <td>75</td>\n",
       "      <td>2</td>\n",
       "    </tr>\n",
       "    <tr>\n",
       "      <th>9</th>\n",
       "      <td>0.77250</td>\n",
       "      <td>70</td>\n",
       "      <td>2</td>\n",
       "    </tr>\n",
       "    <tr>\n",
       "      <th>5</th>\n",
       "      <td>0.76875</td>\n",
       "      <td>60</td>\n",
       "      <td>2</td>\n",
       "    </tr>\n",
       "  </tbody>\n",
       "</table>\n",
       "</div>"
      ],
      "text/plain": [
       "    accuracy  knn__n_neighbors  knn__p\n",
       "13   0.78125                80       2\n",
       "15   0.78000                85       2\n",
       "11   0.77375                75       2\n",
       "9    0.77250                70       2\n",
       "5    0.76875                60       2"
      ]
     },
     "execution_count": 13,
     "metadata": {},
     "output_type": "execute_result"
    }
   ],
   "source": [
    "valid_results = pd.DataFrame(valid_scores)\n",
    "valid_results.sort_values(by='accuracy', ascending=False).head()"
   ]
  },
  {
   "cell_type": "code",
   "execution_count": 14,
   "metadata": {},
   "outputs": [
    {
     "name": "stdout",
     "output_type": "stream",
     "text": [
      "Top accuracy across on validation set:0.781 with k:80 and distance metric:2\n"
     ]
    }
   ],
   "source": [
    "idx = valid_results['accuracy'].idxmax()\n",
    "print ('Top accuracy across on validation set:{:.3f} with k:{} and distance metric:{}'\n",
    "       .format(valid_results.loc[idx,'accuracy'],valid_results.loc[idx,'knn__n_neighbors'],valid_results.loc[idx,'knn__p']))\n"
   ]
  },
  {
   "cell_type": "code",
   "execution_count": 15,
   "metadata": {},
   "outputs": [
    {
     "name": "stdout",
     "output_type": "stream",
     "text": [
      "K-NN accuracy (test set):0.767\n"
     ]
    }
   ],
   "source": [
    "knn_tuned = KNeighborsClassifier(p=2,n_neighbors=75,algorithm='brute',n_jobs=-1)\n",
    "pipe = Pipeline([('pca',PCA(n_components=150)),('knn',knn_tuned)])\n",
    "\n",
    "pipe.fit(X_tr,y_tr)\n",
    "accuracy_tuned = pipe.score(X_te,y_te)\n",
    "print ('K-NN accuracy (test set):{:.3f}'.format(accuracy_tuned))"
   ]
  },
  {
   "cell_type": "markdown",
   "metadata": {},
   "source": [
    "### Choose an image from the test set and plot its 10 nearest neighbors."
   ]
  },
  {
   "cell_type": "code",
   "execution_count": 20,
   "metadata": {},
   "outputs": [],
   "source": [
    "import matplotlib.pyplot as plt\n",
    "%matplotlib inline"
   ]
  },
  {
   "cell_type": "code",
   "execution_count": 24,
   "metadata": {},
   "outputs": [],
   "source": [
    "X_img = X_te[0].reshape(1,-1)"
   ]
  },
  {
   "cell_type": "code",
   "execution_count": 25,
   "metadata": {},
   "outputs": [],
   "source": [
    "X_pca_2d = pca.transform(X_img)\n",
    "neighbors = knn_tuned.kneighbors(X_pca_2d,10)"
   ]
  },
  {
   "cell_type": "code",
   "execution_count": 26,
   "metadata": {},
   "outputs": [
    {
     "data": {
      "text/plain": [
       "(array([[ 47.1635704 ,  47.51545715,  47.56230927,  48.15177155,\n",
       "          49.02527618,  49.55031204,  49.79645157,  50.52106857,\n",
       "          50.57320023,  51.12743759]], dtype=float32),\n",
       " array([[1207, 3318, 2486, 1194,  259,  432, 2687, 3561, 2831, 3650]], dtype=int64))"
      ]
     },
     "execution_count": 26,
     "metadata": {},
     "output_type": "execute_result"
    }
   ],
   "source": [
    "neighbors"
   ]
  },
  {
   "cell_type": "code",
   "execution_count": 27,
   "metadata": {},
   "outputs": [],
   "source": [
    "idx = np.ravel(neighbors[1])\n",
    "distance = np.ravel(neighbors[0])"
   ]
  },
  {
   "cell_type": "code",
   "execution_count": 28,
   "metadata": {},
   "outputs": [
    {
     "data": {
      "image/png": "[encoded data removed]",
      "text/plain": [
       "<matplotlib.figure.Figure at 0x2371b253240>"
      ]
     },
     "metadata": {},
     "output_type": "display_data"
    }
   ],
   "source": [
    "fig, axes = plt.subplots(nrows=1, ncols=11, figsize=(16, 3))\n",
    "axes[0].imshow(pix_te[100].reshape(32,32,3))\n",
    "axes[0].set_title('test image',size=10)\n",
    "axes[0].get_xaxis().set_visible(False) \n",
    "axes[0].get_yaxis().set_visible(False)\n",
    "\n",
    "for i,num in enumerate(idx):\n",
    "    flat_img = X_raw[num,:]\n",
    "    img = flat_img.reshape(32,32,3)\n",
    "    axes[i+1].imshow(img)\n",
    "    axes[i+1].set_title('d:{:.2f}'.format(distance[i]),size=10)\n",
    "    axes[i+1].get_xaxis().set_visible(False) \n",
    "    axes[i+1].get_yaxis().set_visible(False)\n",
    "\n",
    "plt.show()\n"
   ]
  },
  {
   "cell_type": "code",
   "execution_count": null,
   "metadata": {},
   "outputs": [],
   "source": []
  }
 ],
 "metadata": {
  "kernelspec": {
   "display_name": "Python 3",
   "language": "python",
   "name": "python3"
  },
  "language_info": {
   "codemirror_mode": {
    "name": "ipython",
    "version": 3
   },
   "file_extension": ".py",
   "mimetype": "text/x-python",
   "name": "python",
   "nbconvert_exporter": "python",
   "pygments_lexer": "ipython3",
   "version": "3.6.3"
  }
 },
 "nbformat": 4,
 "nbformat_minor": 2
}

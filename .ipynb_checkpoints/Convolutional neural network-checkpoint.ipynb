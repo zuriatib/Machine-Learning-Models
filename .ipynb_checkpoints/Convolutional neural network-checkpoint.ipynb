{
 "cells": [
  {
   "cell_type": "markdown",
   "metadata": {},
   "source": [
    "#### Data loading and preprocessing "
   ]
  },
  {
   "cell_type": "code",
   "execution_count": 1,
   "metadata": {},
   "outputs": [],
   "source": [
    "import numpy as np"
   ]
  },
  {
   "cell_type": "code",
   "execution_count": 2,
   "metadata": {},
   "outputs": [
    {
     "name": "stdout",
     "output_type": "stream",
     "text": [
      "dict_keys(['pixels', 'overfeat', 'labels', 'names', 'allow_pickle'])\n"
     ]
    }
   ],
   "source": [
    "with np.load('cifar4-train.npz',allow_pickle=False) as npz_file:\n",
    "    data = dict(npz_file.items())\n",
    "    print (data.keys())"
   ]
  },
  {
   "cell_type": "code",
   "execution_count": 13,
   "metadata": {},
   "outputs": [],
   "source": [
    "# Convert pixels into floating point numbers\n",
    "X = data['pixels'].astype(np.float32)\n",
    "\n",
    "# Rescale pixel values between -0.5 and 0.5\n",
    "X = (X - 128) / 255\n",
    "\n",
    "#reshape to 32,32,3\n",
    "X = X.reshape(-1,32,32,3)"
   ]
  },
  {
   "cell_type": "code",
   "execution_count": 14,
   "metadata": {},
   "outputs": [
    {
     "name": "stdout",
     "output_type": "stream",
     "text": [
      "Train: (3200, 32, 32, 3) (3200,)\n",
      "Valid: (800, 32, 32, 3) (800,)\n",
      "Test: (1000, 32, 32, 3) (1000,)\n"
     ]
    }
   ],
   "source": [
    "from sklearn.model_selection import train_test_split\n",
    "from sklearn.preprocessing import StandardScaler\n",
    "    \n",
    "# Create train set\n",
    "X_train, X_test, y_train, y_test = train_test_split(X,data['labels'],test_size=1800, random_state=0)\n",
    "\n",
    "# Create validation and test sets\n",
    "X_valid, X_test, y_valid, y_test = train_test_split(X_test, y_test, test_size=1000, random_state=0)\n",
    "\n",
    "print('Train:', X_train.shape, y_train.shape)\n",
    "print('Valid:', X_valid.shape, y_valid.shape)\n",
    "print('Test:', X_test.shape, y_test.shape)"
   ]
  },
  {
   "cell_type": "code",
   "execution_count": 8,
   "metadata": {},
   "outputs": [],
   "source": [
    "# Batch generator\n",
    "def get_batches(X, y, batch_size):\n",
    "    # Shuffle X,y\n",
    "    shuffled_idx = np.arange(len(y)) # 1,2,...,n\n",
    "    np.random.shuffle(shuffled_idx)\n",
    "    \n",
    "    # Enumerate indexes by steps of batch_size\n",
    "    # i: 0, b, 2b, 3b, 4b, .. where b is the batch size\n",
    "    for i in range(0, len(y), batch_size):\n",
    "        # Batch indexes\n",
    "        batch_idx = shuffled_idx[i:i+batch_size]\n",
    "        yield X[batch_idx], y[batch_idx]"
   ]
  },
  {
   "cell_type": "markdown",
   "metadata": {},
   "source": [
    "#### Building graph, convolutional layer"
   ]
  },
  {
   "cell_type": "code",
   "execution_count": 15,
   "metadata": {},
   "outputs": [
    {
     "name": "stdout",
     "output_type": "stream",
     "text": [
      "input: (?, 32, 32, 3)\n",
      "Convolutional layer: (?, 16, 16, 64)\n",
      "Maxpool: (?, 8, 8, 64)\n",
      "Convolutional layer: (?, 8, 8, 64)\n",
      "Maxpool: (?, 4, 4, 64)\n",
      "Flatten: (?, 1024)\n",
      "Dropout: (?, 1024)\n",
      "Fully-connected layer: (?, 256)\n",
      "Output layer: (?, 4)\n"
     ]
    }
   ],
   "source": [
    "import tensorflow as tf\n",
    "\n",
    "# Create new graph\n",
    "graph = tf.Graph()\n",
    "\n",
    "with graph.as_default():\n",
    "    # Placeholders\n",
    "    X = tf.placeholder(dtype=tf.float32, shape=[None, 32, 32, 3])\n",
    "    y = tf.placeholder(dtype=tf.int32, shape=[None])\n",
    "    print ('input:',X.shape)\n",
    "    \n",
    "     # Convolutional layer (64 filters, 5x5 kernels, stride: 2)\n",
    "    conv1 = tf.layers.conv2d(X, 64, (5, 5), (2, 2), 'SAME',activation=tf.nn.relu,\n",
    "                             kernel_initializer=tf.truncated_normal_initializer(stddev=0.01, seed=0),name='conv1')\n",
    "    print('Convolutional layer:', conv1.shape)\n",
    "    \n",
    "    # Maxpool layer (2x2, stride: 2, \"same\" padding)\n",
    "    pool1 = tf.layers.max_pooling2d(conv1, (2, 2), (2, 2), 'SAME')\n",
    "    print('Maxpool:', pool1.shape)\n",
    "    \n",
    "    # Convolutional layer (64 filters, 3x3, stride: 1)\n",
    "    conv2 = tf.layers.conv2d(pool1, 64, (3, 3), (1, 1), 'SAME',activation=tf.nn.relu,\n",
    "                             kernel_initializer=tf.truncated_normal_initializer(stddev=0.01, seed=0),name='conv2')\n",
    "    print('Convolutional layer:', conv2.shape)\n",
    "    \n",
    "    # Maxpool layer (2x2, stride: 2, \"same\" padding)\n",
    "    pool2 = tf.layers.max_pooling2d(conv2, (2, 2), (2, 2), 'SAME')\n",
    "    print('Maxpool:', pool2.shape)\n",
    "    \n",
    "    # Flatten output\n",
    "    flat_output = tf.contrib.layers.flatten(pool2)\n",
    "    print('Flatten:', flat_output.shape)\n",
    "    \n",
    "    # Dropout\n",
    "    training = tf.placeholder(dtype=tf.bool)\n",
    "    flat_output = tf.layers.dropout(flat_output, rate=0.5, seed=0, training=training)\n",
    "    print('Dropout:', flat_output.shape)\n",
    "    \n",
    "    # Fully connected layer\n",
    "    fc1 = tf.layers.dense(flat_output, 256,activation=tf.nn.relu,\n",
    "                          kernel_initializer=tf.variance_scaling_initializer(scale=2, seed=0),\n",
    "                          bias_initializer=tf.zeros_initializer())\n",
    "    print('Fully-connected layer:', fc1.shape)\n",
    "    \n",
    "    # Output layer\n",
    "    logits = tf.layers.dense(fc1,4,activation=None,kernel_initializer=tf.variance_scaling_initializer(scale=1, seed=0)\n",
    "                             ,bias_initializer=tf.zeros_initializer())\n",
    "    print('Output layer:', logits.shape)\n",
    "    \n",
    "    # Kernel of the 1st conv. layer\n",
    "    with tf.variable_scope('conv1', reuse=True):\n",
    "        conv_kernels = tf.get_variable('kernel')\n",
    "    \n",
    "    # Mean cross-entropy\n",
    "    mean_ce = tf.reduce_mean(tf.nn.sparse_softmax_cross_entropy_with_logits(labels=y, logits=logits))\n",
    "    \n",
    "    # Adam optimizer\n",
    "    lr = tf.placeholder(dtype=tf.float32)\n",
    "    gd = tf.train.AdamOptimizer(learning_rate=lr)\n",
    "\n",
    "    # Minimize cross-entropy\n",
    "    train_op = gd.minimize(mean_ce)\n",
    "    \n",
    "    # Compute predictions and accuracy\n",
    "    predictions = tf.argmax(logits, axis=1, output_type=tf.int32)\n",
    "    is_correct = tf.equal(y, predictions)\n",
    "    accuracy = tf.reduce_mean(tf.cast(is_correct, dtype=tf.float32))"
   ]
  },
  {
   "cell_type": "code",
   "execution_count": 23,
   "metadata": {},
   "outputs": [
    {
     "name": "stdout",
     "output_type": "stream",
     "text": [
      "Epoch 1 - valid: 0.472 train: 0.384 (mean)\n",
      "Epoch 2 - valid: 0.517 train: 0.487 (mean)\n",
      "Epoch 3 - valid: 0.535 train: 0.527 (mean)\n",
      "Epoch 4 - valid: 0.565 train: 0.548 (mean)\n",
      "Epoch 5 - valid: 0.587 train: 0.567 (mean)\n",
      "Epoch 6 - valid: 0.600 train: 0.575 (mean)\n",
      "Epoch 7 - valid: 0.619 train: 0.600 (mean)\n",
      "Epoch 8 - valid: 0.625 train: 0.624 (mean)\n",
      "Epoch 9 - valid: 0.654 train: 0.643 (mean)\n",
      "Epoch 10 - valid: 0.665 train: 0.642 (mean)\n",
      "Epoch 11 - valid: 0.655 train: 0.650 (mean)\n",
      "Epoch 12 - valid: 0.674 train: 0.680 (mean)\n",
      "Epoch 13 - valid: 0.668 train: 0.698 (mean)\n",
      "Epoch 14 - valid: 0.685 train: 0.697 (mean)\n",
      "Epoch 15 - valid: 0.706 train: 0.720 (mean)\n",
      "Epoch 16 - valid: 0.729 train: 0.723 (mean)\n",
      "Epoch 17 - valid: 0.721 train: 0.732 (mean)\n",
      "Epoch 18 - valid: 0.721 train: 0.749 (mean)\n",
      "Epoch 19 - valid: 0.714 train: 0.757 (mean)\n",
      "Epoch 20 - valid: 0.725 train: 0.755 (mean)\n",
      "Convolutional network accuracy: 0.710\n"
     ]
    }
   ],
   "source": [
    "# Validation accuracy\n",
    "valid_acc_values = []\n",
    "\n",
    "with tf.Session(graph=graph) as sess:\n",
    "    # Initialize variables\n",
    "    sess.run(tf.global_variables_initializer())\n",
    "    \n",
    "    # Set seed\n",
    "    np.random.seed(0)\n",
    "    \n",
    "    # Train several epochs\n",
    "    for epoch in range(20):\n",
    "        # Accuracy values (train) after each batch\n",
    "        batch_acc = []\n",
    "        \n",
    "        for X_batch, y_batch in get_batches(X_train, y_train, 240):\n",
    "            # Run training and evaluate accuracy\n",
    "            _, acc_value = sess.run([train_op, accuracy], feed_dict={X: X_batch,y: y_batch,lr: 0.001,training: True})\n",
    "            \n",
    "            # Save accuracy (current batch)\n",
    "            batch_acc.append(acc_value)\n",
    "\n",
    "        # Evaluate validation accuracy\n",
    "        valid_acc = sess.run(accuracy, feed_dict={X: X_valid,y: y_valid,training: False})\n",
    "        valid_acc_values.append(valid_acc)\n",
    "        \n",
    "        # Print progress\n",
    "        print('Epoch {} - valid: {:.3f} train: {:.3f} (mean)'.format(epoch+1, valid_acc, np.mean(batch_acc)))\n",
    "        \n",
    "    # Get 1st conv. layer kernels\n",
    "    kernels = conv_kernels.eval()\n",
    "    \n",
    "    # Evaluate test accuracy\n",
    "    test_acc = sess.run(accuracy, feed_dict={X: X_test,y: y_test,training: False})\n",
    "    print('Convolutional network accuracy: {:.3f}'.format(test_acc))"
   ]
  },
  {
   "cell_type": "code",
   "execution_count": 24,
   "metadata": {},
   "outputs": [
    {
     "data": {
      "image/png": "[encoded data removed]",
      "text/plain": [
       "<matplotlib.figure.Figure at 0x2c082fe3518>"
      ]
     },
     "metadata": {},
     "output_type": "display_data"
    }
   ],
   "source": [
    "%matplotlib inline\n",
    "import matplotlib.pyplot as plt\n",
    "\n",
    "# Plot accuracy values\n",
    "plt.plot(valid_acc_values)\n",
    "plt.title('Validation accuracy: {:.3f} (mean last 3)'.format(np.mean(valid_acc_values[-3:])))\n",
    "plt.xlabel('epoch')\n",
    "plt.ylabel('accuracy')\n",
    "plt.show()"
   ]
  },
  {
   "cell_type": "code",
   "execution_count": 25,
   "metadata": {},
   "outputs": [
    {
     "data": {
      "image/png": "[encoded data removed]",
      "text/plain": [
       "<matplotlib.figure.Figure at 0x2c08234e438>"
      ]
     },
     "metadata": {},
     "output_type": "display_data"
    }
   ],
   "source": [
    "# Create a grid of subplots\n",
    "fig, axes = plt.subplots(nrows=8, ncols=8, figsize=(8, 8))\n",
    "\n",
    "# Remove gaps between suplots\n",
    "plt.subplots_adjust(wspace=0, hspace=0)\n",
    "\n",
    "# Plot the 64 kernels from the first convolutional layer\n",
    "for i, axis in enumerate(axes.flatten()):\n",
    "    # Get i-th kernel (shape: 5x5x3)\n",
    "    kernel = kernels[:, :, :, i].copy()\n",
    "    \n",
    "    # Rescale values between 0 and 1\n",
    "    kernel -= kernel.min() # Rescale between 0 and max\n",
    "    kernel /= kernel.max() # Rescale between 0 and 1\n",
    "    \n",
    "    # Plot kernel with imshow()\n",
    "    axis.imshow(kernel)\n",
    "    axis.get_xaxis().set_visible(False) # disable x-axis\n",
    "    axis.get_yaxis().set_visible(False) # disable y-axis\n",
    "    \n",
    "plt.show()"
   ]
  },
  {
   "cell_type": "code",
   "execution_count": null,
   "metadata": {},
   "outputs": [],
   "source": []
  }
 ],
 "metadata": {
  "kernelspec": {
   "display_name": "Python 3",
   "language": "python",
   "name": "python3"
  },
  "language_info": {
   "codemirror_mode": {
    "name": "ipython",
    "version": 3
   },
   "file_extension": ".py",
   "mimetype": "text/x-python",
   "name": "python",
   "nbconvert_exporter": "python",
   "pygments_lexer": "ipython3",
   "version": "3.6.4"
  }
 },
 "nbformat": 4,
 "nbformat_minor": 2
}
